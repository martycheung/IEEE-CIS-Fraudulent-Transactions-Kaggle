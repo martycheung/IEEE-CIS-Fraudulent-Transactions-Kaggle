{
 "cells": [
  {
   "cell_type": "markdown",
   "metadata": {},
   "source": [
    "## Test for Feature Eng - LightGBM"
   ]
  },
  {
   "cell_type": "code",
   "execution_count": 8,
   "metadata": {
    "_cell_guid": "b1076dfc-b9ad-4769-8c92-a6c4dae69d19",
    "_uuid": "8f2839f25d086af736a60e9eeb907d3b93b6e0e5"
   },
   "outputs": [],
   "source": [
    "import numpy as np # linear algebra\n",
    "import pandas as pd # data processing, CSV file I/O (e.g. pd.read_csv)\n",
    "import matplotlib.pyplot as plt\n",
    "import seaborn as sns\n",
    "sns.set_style('darkgrid')\n",
    "import datetime\n",
    "import missingno as msno\n",
    "import lightgbm as lgb\n",
    "import xgboost as xgb\n",
    "from sklearn import preprocessing\n",
    "from sklearn import metrics\n",
    "from sklearn.model_selection import KFold, TimeSeriesSplit, train_test_split,StratifiedKFold\n",
    "import gc\n",
    "from statistics import mean\n",
    "\n",
    "# Any results you write to the current directory are saved as output."
   ]
  },
  {
   "cell_type": "markdown",
   "metadata": {},
   "source": [
    "### Setup Cross Validation\n",
    "1. Divide Train set in subsets (Training set itself + Local Test set)\n",
    "2. Define Validation Metric (in our case it is ROC-AUC)\n",
    "3. Stop training when Validation metric stops improving\n",
    "4. Take average of each fold's prediction for the Local Test set."
   ]
  },
  {
   "cell_type": "code",
   "execution_count": 9,
   "metadata": {},
   "outputs": [],
   "source": [
    "train_full = pd.read_pickle('data/train_feat.pkl')\n",
    "test_full = pd.read_pickle('data/test_feat.pkl')\n",
    "\n",
    "# Label Encoding for categoricals\n",
    "for f in test_full.columns:\n",
    "    if train_full[f].dtype=='object' or test_full[f].dtype=='object': \n",
    "        train_full[f] = train_full[f].fillna('unseen_before_label')\n",
    "        test_full[f]  = test_full[f].fillna('unseen_before_label')\n",
    "        lbl = preprocessing.LabelEncoder()\n",
    "        lbl.fit(list(train_full[f].values) + list(test_full[f].values))\n",
    "        train_full[f] = lbl.transform(list(train_full[f].values))\n",
    "        test_full[f] = lbl.transform(list(test_full[f].values)) \n",
    "\n",
    "# Fill NA's for numerics\n",
    "train_full = train_full.fillna(-999)\n",
    "test_full = test_full.fillna(-999)"
   ]
  },
  {
   "cell_type": "code",
   "execution_count": 10,
   "metadata": {},
   "outputs": [],
   "source": [
    "rm_cols = [\n",
    "    'TransactionID','TransactionDT', \n",
    "    'isFraud'                         \n",
    "]\n",
    "\n",
    "# Final features\n",
    "features_columns = [col for col in list(train_full.columns) if col not in rm_cols]"
   ]
  },
  {
   "cell_type": "code",
   "execution_count": 11,
   "metadata": {},
   "outputs": [
    {
     "data": {
      "text/plain": [
       "54"
      ]
     },
     "execution_count": 11,
     "metadata": {},
     "output_type": "execute_result"
    }
   ],
   "source": [
    "X = train_full[features_columns]\n",
    "y = train_full['isFraud']\n",
    "\n",
    "del train_full\n",
    "gc.collect()"
   ]
  },
  {
   "cell_type": "code",
   "execution_count": 12,
   "metadata": {},
   "outputs": [],
   "source": [
    "params = {\n",
    "                    'objective':'binary',\n",
    "                    'boosting_type':'gbdt',\n",
    "                    'metric':'auc',\n",
    "                    'n_jobs':-1,\n",
    "                    'learning_rate':0.01,\n",
    "                    'num_leaves': 2**8, # reduce number of leaves to reduce overfitting\n",
    "                    'max_depth': 8, # max_depth should be constrained, -1 would mean unconstrained\n",
    "                    'tree_learner':'serial',\n",
    "                    'colsample_bytree': 0.7,\n",
    "                    'subsample_freq':1,\n",
    "                    'subsample':0.7,\n",
    "                    'n_estimators':10000,\n",
    "                    'max_bin':255,\n",
    "                    'verbose':-1,\n",
    "                    'seed': 2019,\n",
    "                    'early_stopping_rounds':100, \n",
    "                } "
   ]
  },
  {
   "cell_type": "code",
   "execution_count": null,
   "metadata": {},
   "outputs": [
    {
     "name": "stdout",
     "output_type": "stream",
     "text": [
      "Training on fold 1\n"
     ]
    },
    {
     "name": "stderr",
     "output_type": "stream",
     "text": [
      "C:\\Users\\martin.cheung\\AppData\\Local\\Continuum\\anaconda3\\lib\\site-packages\\lightgbm\\engine.py:113: UserWarning: Found `n_estimators` in params. Will use it instead of argument\n",
      "  warnings.warn(\"Found `{}` in params. Will use it instead of argument\".format(alias))\n",
      "C:\\Users\\martin.cheung\\AppData\\Local\\Continuum\\anaconda3\\lib\\site-packages\\lightgbm\\engine.py:118: UserWarning: Found `early_stopping_rounds` in params. Will use it instead of argument\n",
      "  warnings.warn(\"Found `{}` in params. Will use it instead of argument\".format(alias))\n"
     ]
    },
    {
     "name": "stdout",
     "output_type": "stream",
     "text": [
      "Training until validation scores don't improve for 100 rounds.\n",
      "[200]\ttraining's auc: 0.955017\tvalid_1's auc: 0.932698\n",
      "[400]\ttraining's auc: 0.982734\tvalid_1's auc: 0.954984\n",
      "[600]\ttraining's auc: 0.992764\tvalid_1's auc: 0.963048\n",
      "[800]\ttraining's auc: 0.996815\tvalid_1's auc: 0.967098\n",
      "[1000]\ttraining's auc: 0.99849\tvalid_1's auc: 0.969431\n",
      "[1200]\ttraining's auc: 0.999288\tvalid_1's auc: 0.971062\n",
      "[1400]\ttraining's auc: 0.99968\tvalid_1's auc: 0.972209\n",
      "[1600]\ttraining's auc: 0.999863\tvalid_1's auc: 0.973113\n",
      "[1800]\ttraining's auc: 0.999942\tvalid_1's auc: 0.973793\n",
      "[2000]\ttraining's auc: 0.999976\tvalid_1's auc: 0.974383\n",
      "[2200]\ttraining's auc: 0.999991\tvalid_1's auc: 0.974652\n",
      "[2400]\ttraining's auc: 0.999997\tvalid_1's auc: 0.974979\n",
      "[2600]\ttraining's auc: 0.999999\tvalid_1's auc: 0.975283\n",
      "[2800]\ttraining's auc: 1\tvalid_1's auc: 0.975492\n",
      "[3000]\ttraining's auc: 1\tvalid_1's auc: 0.975617\n",
      "[3200]\ttraining's auc: 1\tvalid_1's auc: 0.975861\n",
      "[3400]\ttraining's auc: 1\tvalid_1's auc: 0.975933\n",
      "Early stopping, best iteration is:\n",
      "[3465]\ttraining's auc: 1\tvalid_1's auc: 0.975955\n",
      "AUC for fold 1: 0.9759553698410425\n",
      "Training on fold 2\n",
      "Training until validation scores don't improve for 100 rounds.\n",
      "[200]\ttraining's auc: 0.954707\tvalid_1's auc: 0.935613\n",
      "[400]\ttraining's auc: 0.982935\tvalid_1's auc: 0.955537\n",
      "[600]\ttraining's auc: 0.992547\tvalid_1's auc: 0.964032\n",
      "[800]\ttraining's auc: 0.996762\tvalid_1's auc: 0.967893\n",
      "[1000]\ttraining's auc: 0.998474\tvalid_1's auc: 0.970281\n",
      "[1200]\ttraining's auc: 0.99928\tvalid_1's auc: 0.971831\n",
      "[1400]\ttraining's auc: 0.999664\tvalid_1's auc: 0.973008\n",
      "[1600]\ttraining's auc: 0.999842\tvalid_1's auc: 0.973838\n",
      "[1800]\ttraining's auc: 0.999931\tvalid_1's auc: 0.974535\n",
      "[2000]\ttraining's auc: 0.99997\tvalid_1's auc: 0.97513\n",
      "[2200]\ttraining's auc: 0.999989\tvalid_1's auc: 0.975561\n",
      "[2400]\ttraining's auc: 0.999997\tvalid_1's auc: 0.975957\n",
      "[2600]\ttraining's auc: 0.999999\tvalid_1's auc: 0.976278\n",
      "[2800]\ttraining's auc: 1\tvalid_1's auc: 0.976546\n",
      "[3000]\ttraining's auc: 1\tvalid_1's auc: 0.976721\n",
      "[3200]\ttraining's auc: 1\tvalid_1's auc: 0.976898\n",
      "[3400]\ttraining's auc: 1\tvalid_1's auc: 0.977064\n",
      "[3600]\ttraining's auc: 1\tvalid_1's auc: 0.97708\n",
      "Early stopping, best iteration is:\n",
      "[3502]\ttraining's auc: 1\tvalid_1's auc: 0.977077\n",
      "AUC for fold 2: 0.9770774601250201\n",
      "Training on fold 3\n",
      "Training until validation scores don't improve for 100 rounds.\n",
      "[200]\ttraining's auc: 0.955024\tvalid_1's auc: 0.933043\n",
      "[400]\ttraining's auc: 0.983126\tvalid_1's auc: 0.953516\n",
      "[600]\ttraining's auc: 0.993002\tvalid_1's auc: 0.961972\n",
      "[800]\ttraining's auc: 0.996871\tvalid_1's auc: 0.96596\n",
      "[1000]\ttraining's auc: 0.998524\tvalid_1's auc: 0.968359\n",
      "[1200]\ttraining's auc: 0.999317\tvalid_1's auc: 0.970054\n",
      "[1400]\ttraining's auc: 0.999681\tvalid_1's auc: 0.971147\n",
      "[1600]\ttraining's auc: 0.99986\tvalid_1's auc: 0.971977\n",
      "[1800]\ttraining's auc: 0.999939\tvalid_1's auc: 0.972649\n",
      "[2000]\ttraining's auc: 0.999975\tvalid_1's auc: 0.973343\n",
      "[2200]\ttraining's auc: 0.999989\tvalid_1's auc: 0.973657\n",
      "[2400]\ttraining's auc: 0.999996\tvalid_1's auc: 0.97406\n",
      "[2600]\ttraining's auc: 0.999998\tvalid_1's auc: 0.974357\n",
      "[2800]\ttraining's auc: 1\tvalid_1's auc: 0.974602\n",
      "[3000]\ttraining's auc: 1\tvalid_1's auc: 0.974826\n",
      "[3200]\ttraining's auc: 1\tvalid_1's auc: 0.974992\n",
      "[3400]\ttraining's auc: 1\tvalid_1's auc: 0.975107\n",
      "Early stopping, best iteration is:\n",
      "[3372]\ttraining's auc: 1\tvalid_1's auc: 0.975142\n",
      "AUC for fold 3: 0.9751418971320293\n",
      "Training on fold 4\n",
      "Training until validation scores don't improve for 100 rounds.\n",
      "[200]\ttraining's auc: 0.955251\tvalid_1's auc: 0.930533\n",
      "[400]\ttraining's auc: 0.982759\tvalid_1's auc: 0.952491\n",
      "[600]\ttraining's auc: 0.992563\tvalid_1's auc: 0.961699\n",
      "[800]\ttraining's auc: 0.996734\tvalid_1's auc: 0.966078\n",
      "[1000]\ttraining's auc: 0.998508\tvalid_1's auc: 0.968764\n",
      "[1200]\ttraining's auc: 0.999304\tvalid_1's auc: 0.970447\n",
      "[1400]\ttraining's auc: 0.999693\tvalid_1's auc: 0.971876\n",
      "[1600]\ttraining's auc: 0.99987\tvalid_1's auc: 0.972838\n",
      "[1800]\ttraining's auc: 0.999945\tvalid_1's auc: 0.973512\n",
      "[2000]\ttraining's auc: 0.999977\tvalid_1's auc: 0.974111\n"
     ]
    }
   ],
   "source": [
    "NFOLDS =5\n",
    "folds = StratifiedKFold(n_splits=NFOLDS,random_state=123,shuffle=True) # split by stratified folds\n",
    "# folds = TimeSeriesSplit(n_splits=NFOLDS) # split by time\n",
    "\n",
    "aucs = []\n",
    "clfs=[]\n",
    "pred_len = len(test_full)\n",
    "prediction = np.zeros(pred_len)\n",
    "\n",
    "for fold, (trn_idx, test_idx) in enumerate(folds.split(X,y)):\n",
    "    print('Training on fold {}'.format(fold + 1))\n",
    "    \n",
    "    trn_data = lgb.Dataset(data=X.iloc[trn_idx], label=y.iloc[trn_idx])\n",
    "    val_data = lgb.Dataset(data=X.iloc[test_idx], label=y.iloc[test_idx])\n",
    "    clf = lgb.train(params, \n",
    "                    trn_data, \n",
    "                    valid_sets = [trn_data, val_data], \n",
    "                    verbose_eval=200)\n",
    "    \n",
    "    print('AUC for fold {}: {}'.format(fold+1, clf.best_score['valid_1']['auc']))\n",
    "    \n",
    "    aucs.append(clf.best_score['valid_1']['auc'])\n",
    "#     clfs.append(clf)\n",
    "    \n",
    "    prediction += clf.predict(test_full[features_columns])\n",
    "\n",
    "print(\"Cross Validation AUC: \", sum(aucs)/NFOLDS)\n",
    "final_predictions = prediction/NFOLDS"
   ]
  },
  {
   "cell_type": "markdown",
   "metadata": {},
   "source": [
    "Looks like this model is overfitting on the training set. Training AUC is getting up to 1 and validation auc is almost 0.98, when a realistic leaderboard number for a good model is 0.94-0.96. Is there data leakage somewhere?"
   ]
  },
  {
   "cell_type": "code",
   "execution_count": null,
   "metadata": {},
   "outputs": [],
   "source": [
    "fig, ax = plt.subplots(figsize=(15, 20))\n",
    "lgb.plot_importance(clf,max_num_features=50,ax=ax)\n",
    "# for i in range(NFOLDS):\n",
    "#     fig, ax = plt.subplots(figsize=(15, 20))\n",
    "#     xgb.plot_importance(clfs[i],max_num_features=50,ax=ax)"
   ]
  },
  {
   "cell_type": "code",
   "execution_count": null,
   "metadata": {},
   "outputs": [],
   "source": [
    "sample_submission = pd.read_csv('data/sample_submission.csv', index_col='TransactionID')\n",
    "sample_submission['isFraud'] = prediction\n",
    "sample_submission.to_csv('data/lightgbm_FE.csv')"
   ]
  },
  {
   "cell_type": "code",
   "execution_count": null,
   "metadata": {},
   "outputs": [],
   "source": []
  }
 ],
 "metadata": {
  "kernelspec": {
   "display_name": "Python 3",
   "language": "python",
   "name": "python3"
  },
  "language_info": {
   "codemirror_mode": {
    "name": "ipython",
    "version": 3
   },
   "file_extension": ".py",
   "mimetype": "text/x-python",
   "name": "python",
   "nbconvert_exporter": "python",
   "pygments_lexer": "ipython3",
   "version": "3.7.3"
  }
 },
 "nbformat": 4,
 "nbformat_minor": 1
}
