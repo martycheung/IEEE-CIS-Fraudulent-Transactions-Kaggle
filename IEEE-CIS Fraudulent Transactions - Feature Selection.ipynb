{
 "cells": [
  {
   "cell_type": "markdown",
   "metadata": {},
   "source": [
    "## Feature Selection\n",
    "* Using the new features built in the previous notebook, I will do some feature selection using the Recursive Feature Selection (RFE) algorithm. I will try to reduce the currently 459 features to a more manageable ~200.\n",
    "* I will then test the new features in the model\n"
   ]
  },
  {
   "cell_type": "code",
   "execution_count": 13,
   "metadata": {
    "_cell_guid": "b1076dfc-b9ad-4769-8c92-a6c4dae69d19",
    "_uuid": "8f2839f25d086af736a60e9eeb907d3b93b6e0e5"
   },
   "outputs": [],
   "source": [
    "import numpy as np # linear algebra\n",
    "import pandas as pd # data processing, CSV file I/O (e.g. pd.read_csv)\n",
    "import matplotlib.pyplot as plt\n",
    "import datetime\n",
    "import lightgbm as lgb\n",
    "import xgboost as xgb\n",
    "from sklearn import preprocessing\n",
    "from sklearn import metrics\n",
    "from sklearn.model_selection import KFold, TimeSeriesSplit, train_test_split,StratifiedKFold\n",
    "import gc\n",
    "from sklearn.feature_selection import RFECV,RFE\n",
    "import time\n",
    "import pickle\n",
    "\n",
    "import os\n",
    "for dirname, _, filenames in os.walk('/kaggle/input'):\n",
    "    for filename in filenames:\n",
    "        print(os.path.join(dirname, filename))"
   ]
  },
  {
   "cell_type": "code",
   "execution_count": 17,
   "metadata": {
    "_cell_guid": "79c7e3d0-c299-4dcb-8224-4455121ee9b0",
    "_uuid": "d629ff2d2480ee46fbb7e2d37f6b5fab8052498a"
   },
   "outputs": [],
   "source": [
    "train_feat = pd.read_pickle('data/train_feat.pkl')\n",
    "test_feat = pd.read_pickle('data/test_feat.pkl')"
   ]
  },
  {
   "cell_type": "code",
   "execution_count": 4,
   "metadata": {},
   "outputs": [
    {
     "data": {
      "text/plain": [
       "14"
      ]
     },
     "execution_count": 4,
     "metadata": {},
     "output_type": "execute_result"
    }
   ],
   "source": [
    "# Label Encoding\n",
    "for f in test_feat.columns:\n",
    "    if train_feat[f].dtype=='object' or test_feat[f].dtype=='object': \n",
    "        train_feat[f] = train_feat[f].fillna('unseen_before_label')\n",
    "        test_feat[f]  = test_feat[f].fillna('unseen_before_label')\n",
    "        lbl = preprocessing.LabelEncoder()\n",
    "        lbl.fit(list(train_feat[f].values) + list(test_feat[f].values))\n",
    "        train_feat[f] = lbl.transform(list(train_feat[f].values))\n",
    "        test_feat[f] = lbl.transform(list(test_feat[f].values)) \n",
    "\n",
    "train_feat = train_feat.fillna(-999)\n",
    "test_feat = test_feat.fillna(-999)\n",
    "del test_feat\n",
    "gc.collect()"
   ]
  },
  {
   "cell_type": "code",
   "execution_count": 5,
   "metadata": {},
   "outputs": [],
   "source": [
    "rm_cols = [\n",
    "    'TransactionID','TransactionDT', \n",
    "    'isFraud'                         \n",
    "]\n",
    "\n",
    "# Final features\n",
    "features_columns = [col for col in list(train_feat.columns) if col not in rm_cols]"
   ]
  },
  {
   "cell_type": "code",
   "execution_count": null,
   "metadata": {},
   "outputs": [],
   "source": [
    "# params = {\n",
    "#                     'objective':'binary',\n",
    "#                     'boosting_type':'gbdt',\n",
    "#                     'metric':'auc',\n",
    "#                     'n_jobs':-1,\n",
    "#                     'learning_rate':0.01,\n",
    "#                     'num_leaves': 2**8,\n",
    "#                     'max_depth':-1,\n",
    "#                     'tree_learner':'serial',\n",
    "#                     'colsample_bytree': 0.7,\n",
    "#                     'subsample_freq':1,\n",
    "#                     'subsample':0.7,\n",
    "#                     'n_estimators':500,\n",
    "#                     'max_bin':255,\n",
    "#                     'verbose':-1,\n",
    "#                     'seed': 2019,\n",
    "# #                     'early_stopping_rounds':100, \n",
    "#                 } "
   ]
  },
  {
   "cell_type": "code",
   "execution_count": 6,
   "metadata": {},
   "outputs": [
    {
     "name": "stdout",
     "output_type": "stream",
     "text": [
      "Fitting estimator with 456 features.\n",
      "Fitting estimator with 446 features.\n",
      "Fitting estimator with 436 features.\n",
      "Fitting estimator with 426 features.\n",
      "Fitting estimator with 416 features.\n",
      "Fitting estimator with 406 features.\n",
      "Fitting estimator with 396 features.\n",
      "Fitting estimator with 386 features.\n",
      "Fitting estimator with 376 features.\n",
      "Fitting estimator with 366 features.\n",
      "Fitting estimator with 356 features.\n",
      "Fitting estimator with 346 features.\n",
      "Fitting estimator with 336 features.\n",
      "Fitting estimator with 326 features.\n",
      "Fitting estimator with 316 features.\n",
      "Fitting estimator with 306 features.\n",
      "Fitting estimator with 296 features.\n",
      "Fitting estimator with 286 features.\n",
      "Fitting estimator with 276 features.\n",
      "Fitting estimator with 266 features.\n",
      "Fitting estimator with 256 features.\n",
      "Fitting estimator with 246 features.\n",
      "Fitting estimator with 236 features.\n",
      "Fitting estimator with 226 features.\n",
      "Fitting estimator with 216 features.\n",
      "Fitting estimator with 206 features.\n",
      "Time Elapsed (min):  24.033833666642508\n"
     ]
    }
   ],
   "source": [
    "folds = 5\n",
    "step = 10\n",
    "\n",
    "# rfecv = RFECV(\n",
    "#               estimator=lgb.LGBMClassifier(),\n",
    "#               step=step,\n",
    "#               cv=StratifiedKFold(\n",
    "#                                  n_splits=folds,\n",
    "#                                  shuffle=True,\n",
    "#                                  random_state=42).split(train_feat[features_columns], train_feat['isFraud']),\n",
    "#               scoring='roc_auc',\n",
    "#               n_jobs=1,\n",
    "#               verbose=2)\n",
    "\n",
    "rfe=RFE(estimator=lgb.LGBMClassifier(), n_features_to_select = 200, step=step, verbose=2)\n",
    "\n",
    "start = time.time()\n",
    "rfe.fit(train_feat[features_columns], train_feat['isFraud'])\n",
    "end = time.time()\n",
    "print('Time Elapsed (min): ',(end - start)/60)"
   ]
  },
  {
   "cell_type": "code",
   "execution_count": 9,
   "metadata": {},
   "outputs": [
    {
     "name": "stdout",
     "output_type": "stream",
     "text": [
      "200 selected features\n"
     ]
    }
   ],
   "source": [
    "rfe_support = rfe.get_support()\n",
    "rfe_feature = train_feat[features_columns].loc[:,rfe_support].columns.tolist()\n",
    "print(str(len(rfe_feature)), 'selected features')"
   ]
  },
  {
   "cell_type": "code",
   "execution_count": 14,
   "metadata": {},
   "outputs": [],
   "source": [
    "with open(\"data/rfe_features_200.pkl\", 'wb') as f:\n",
    "    pickle.dump(rfe_feature, f)"
   ]
  },
  {
   "cell_type": "code",
   "execution_count": 15,
   "metadata": {},
   "outputs": [],
   "source": [
    "with open('data/rfe_features_200.pkl', 'rb') as f:\n",
    "    rfe_feature = pickle.load(f)"
   ]
  },
  {
   "cell_type": "code",
   "execution_count": null,
   "metadata": {},
   "outputs": [],
   "source": []
  }
 ],
 "metadata": {
  "kernelspec": {
   "display_name": "Python 3",
   "language": "python",
   "name": "python3"
  },
  "language_info": {
   "codemirror_mode": {
    "name": "ipython",
    "version": 3
   },
   "file_extension": ".py",
   "mimetype": "text/x-python",
   "name": "python",
   "nbconvert_exporter": "python",
   "pygments_lexer": "ipython3",
   "version": "3.7.3"
  }
 },
 "nbformat": 4,
 "nbformat_minor": 1
}
